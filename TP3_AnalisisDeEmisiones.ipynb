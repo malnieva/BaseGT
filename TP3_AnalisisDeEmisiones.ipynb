{
  "nbformat": 4,
  "nbformat_minor": 0,
  "metadata": {
    "colab": {
      "provenance": []
    },
    "kernelspec": {
      "name": "python3",
      "display_name": "Python 3"
    },
    "language_info": {
      "name": "python"
    }
  },
  "cells": [
    {
      "cell_type": "markdown",
      "source": [
        "\n",
        "# 1. Comprensión del Negocio\n",
        "\n",
        "\n",
        "**Objetivo del Negocio:**\n",
        "\n",
        "Brindar datos estructurados, confiables y comparables internacionalmente para alimentar sistemas de inteligencia, monitoreo y decisiones estratégicas en el sector alimentario, agrícola y ambiental.\n",
        "\n",
        "\n",
        "**Objetivos del Proyecto**\n",
        "\n",
        "Construir un modelo que nos permita analizar y predecir las emisiones de gases de efecto invernadero asociadas a la producción agrícola, identificando así las prácticas que contribuyen significativamente a estas emisiones. Este modelo facilitaría la evaluación del impacto de diferentes estrategias agrícolas en la sostenibilidad ambiental y la seguridad alimentaria."
      ],
      "metadata": {
        "id": "HfjbqTzNdSnl"
      }
    },
    {
      "cell_type": "markdown",
      "source": [
        "# 2. Comprensión de los Datos\n",
        "\n",
        "**Pasos**\n",
        "\n",
        "*   Obtener los Datos: Obtener los datos desde la dirección: https://www.fao.org/faostat/es/#data/GT (dataset \"Totales de las emisiones\").\n",
        "*   Análisis Exploratorio de Datos (EDA): Comprender las características principales del dataset y su estructura."
      ],
      "metadata": {
        "id": "Kl76EAIsePvW"
      }
    },
    {
      "cell_type": "code",
      "source": [
        "# Importar bibliotecas necesarias\n",
        "import numpy as np\n",
        "import pandas as pd\n",
        "import csv\n",
        "import seaborn as sns\n",
        "from matplotlib import pyplot as plt\n",
        "\n",
        "# Configuración de estilos\n",
        "sns.set_style(\"whitegrid\")"
      ],
      "metadata": {
        "id": "MM3Ysag1etAk"
      },
      "execution_count": null,
      "outputs": []
    },
    {
      "cell_type": "code",
      "source": [
        "# Cargar el dataset (asegúrate de tener el archivo .csv)\n",
        "#from google.colab import files\n",
        "#uploaded = files.upload()  # Esto te permitirá subir el archivo desde tu computadora\n",
        "\n",
        "# Cargar el archivo CSV\n",
        "data = pd.read_csv(\n",
        "    \"/content/emisiones.csv\",\n",
        "    header=0,\n",
        "    delimiter=\",\",\n",
        "    engine=\"python\",\n",
        "    #on_bad_lines='skip',\n",
        "    quoting=csv.QUOTE_MINIMAL,  # O usa csv.QUOTE_ALL\n",
        "    encoding='utf-8'\n",
        ")\n"
      ],
      "metadata": {
        "id": "Afo5grXX31N7"
      },
      "execution_count": null,
      "outputs": []
    },
    {
      "cell_type": "code",
      "source": [
        "data.head()"
      ],
      "metadata": {
        "id": "aZaEydbQj07-"
      },
      "execution_count": null,
      "outputs": []
    },
    {
      "cell_type": "code",
      "source": [
        "data.tail()"
      ],
      "metadata": {
        "id": "tj2XX74Kj6_L"
      },
      "execution_count": null,
      "outputs": []
    },
    {
      "cell_type": "code",
      "source": [
        "data.keys()"
      ],
      "metadata": {
        "id": "5YZEowSXj_n7"
      },
      "execution_count": null,
      "outputs": []
    },
    {
      "cell_type": "code",
      "source": [
        "data.dtypes"
      ],
      "metadata": {
        "id": "czCo40aAkLT8"
      },
      "execution_count": null,
      "outputs": []
    },
    {
      "cell_type": "code",
      "source": [
        "data.info()"
      ],
      "metadata": {
        "id": "ai3_K-a8kO51"
      },
      "execution_count": null,
      "outputs": []
    },
    {
      "cell_type": "markdown",
      "source": [
        "**Comprensión de los datos**\n",
        "\n",
        "*   Codigo del area: Código numérico que identifica el país/región según FAO.\n",
        "*   Codigo del area (M49): codigo M-49 de las Naciones Unidas y la Norma estadística de la FAO\n",
        "*   Area: Nombre del país, región, continente u otra agregación geográfica.\n",
        "*   Codigo del producto: Código numérico del producto o elemento analizado (por ejemplo, un cultivo, un tipo de emisión, etc.).\n",
        "*   Producto: Nombre descriptivo del elemento o ítem (por ejemplo, “Emisiones totales excluyendo LULUCF”, “Residuos agrícolas”).\n",
        "*   Codigo del elemento: Código numérico que identifica la variable medida (por ejemplo, “723113”, “7234”).\n",
        "*   Elemento: Nombre de la métrica (por ejemplo, \"Emisiones (CO2eq) (AR5)\", \"Emisiones directas (N2O)\").\n",
        "*   Codigo del año: Código interno para el año; suele ser equivalente al año numérico.\n",
        "*   Año: Año del dato (por lo general un número entero, aunque puede ser un rango en algunos casos).\n",
        "*   Codigo fuente: Código interno para la fuente.\n",
        "*   Fuente: fuentes de emisión.\n",
        "*   Unidad: Unidad de medida asociada (como “kilotones”, “hectareas”).\n",
        "*   Valor: Valor numérico real del dato recolectado.\n",
        "*   Simbolo: Etiqueta breve que señala el tipo de dato o posibles advertencias sobre su calidad (por ejemplo, “A” para estimado, “E” para provisional).\n",
        "*   Nota: Anotaciones específicas.\n"
      ],
      "metadata": {
        "id": "lODTwcKMkgX6"
      }
    },
    {
      "cell_type": "markdown",
      "source": [
        "Resumiendo:\n",
        "* Tienen 2397461 registros\n",
        "* Tienen 14 columnas\n",
        "* Hay columnas que tienen nulls\n",
        "* Hay 2 columnas flotantes\n",
        "* Hay 6 columnas enteras\n",
        "* Hay 7 columnas object. Que parece tienen datos de cadenas de texto"
      ],
      "metadata": {
        "id": "6fWtF_1uk3fh"
      }
    },
    {
      "cell_type": "markdown",
      "source": [
        "### Puedo averiguar algo de las columnas con datos categoricos?"
      ],
      "metadata": {
        "id": "NYWsY9E6k9zS"
      }
    },
    {
      "cell_type": "code",
      "source": [
        "data.nunique()"
      ],
      "metadata": {
        "id": "QCXMUhXNlBdh"
      },
      "execution_count": null,
      "outputs": []
    },
    {
      "cell_type": "code",
      "source": [
        "categoricos = data[[\"Producto\",\"Elemento\", \"Fuente\", \"Símbolo\"]]\n",
        "categoricos.nunique()"
      ],
      "metadata": {
        "id": "5RMNYB10lVCh"
      },
      "execution_count": null,
      "outputs": []
    },
    {
      "cell_type": "markdown",
      "source": [
        "# 3. Preparación de los Datos\n",
        "\n",
        "\n",
        "**Pasos:**\n",
        "\n",
        "*    Limpieza de Datos: Manejo de valores nulos y eliminación de columnas irrelevantes.\n",
        "*    Transformación de Datos: Codificación de variables categóricas y normalización de datos si es necesario."
      ],
      "metadata": {
        "id": "14JBnWWYlgSF"
      }
    },
    {
      "cell_type": "markdown",
      "source": [
        "## Tengo datos nulos o NA?"
      ],
      "metadata": {
        "id": "RnKOLUODlvE4"
      }
    },
    {
      "cell_type": "code",
      "source": [
        "pd.isnull(data).sum()"
      ],
      "metadata": {
        "id": "-YlTvLOqlyTd"
      },
      "execution_count": null,
      "outputs": []
    },
    {
      "cell_type": "markdown",
      "source": [
        "## Hay duplicados? Como verificamos?"
      ],
      "metadata": {
        "id": "5jxCwuCNmT08"
      }
    },
    {
      "cell_type": "code",
      "source": [
        "data.duplicated()"
      ],
      "metadata": {
        "id": "o5NmT3NimWoN"
      },
      "execution_count": null,
      "outputs": []
    },
    {
      "cell_type": "code",
      "source": [
        "data.duplicated().sum()"
      ],
      "metadata": {
        "id": "YE9N8CWWmXYu"
      },
      "execution_count": null,
      "outputs": []
    },
    {
      "cell_type": "code",
      "source": [
        "data.drop_duplicates(inplace=True)"
      ],
      "metadata": {
        "id": "Se18rBfDmeAJ"
      },
      "execution_count": null,
      "outputs": []
    },
    {
      "cell_type": "markdown",
      "source": [
        "## Visualización de datos\n",
        "Crear visualizaciones para observar tendencias y patrones. Aquí hay un ejemplo de las emisiones por sector:"
      ],
      "metadata": {
        "id": "cjD-MAWAWAzM"
      }
    },
    {
      "cell_type": "code",
      "source": [
        "# Visualización de emisiones por sector\n",
        "plt.figure(figsize=(12, 6))\n",
        "sns.barplot(x='Área', y='Elemento', data=data)  # Asegúrate de cambiar 'Sector' y 'Emisiones' por los nombres de las columnas correctas\n",
        "plt.title('Emisiones por Sector')\n",
        "plt.xticks(rotation=45)\n",
        "plt.xlabel('Sector')\n",
        "plt.ylabel('Emisiones')\n",
        "plt.show()"
      ],
      "metadata": {
        "id": "MYOXrY1yWBYM"
      },
      "execution_count": null,
      "outputs": []
    },
    {
      "cell_type": "markdown",
      "source": [
        "# 4. Modelado\n",
        "**Pasos:**\n",
        "*    Selección del Modelo: Elegir el modelo de machine learning apropiado.\n",
        "*    Entrenamiento del Modelo: Dividir el dataset en conjuntos de entrenamiento y prueba, y entrenar el modelo.\n",
        "*    Predicción: Usar el modelo entrenado para hacer predicciones."
      ],
      "metadata": {
        "id": "QofZnoEHWNJc"
      }
    },
    {
      "cell_type": "code",
      "source": [
        "from sklearn.linear_model import LinearRegression\n",
        "\n",
        "# Preparar los datos (ejemplo)\n",
        "X = data[['Año']]  # Cambia 'Año' por la variable independiente que desees usar\n",
        "y = data['Elemento']  # Cambia 'Emisiones' por la variable dependiente\n",
        "\n",
        "# Crear el modelo\n",
        "model = LinearRegression()\n",
        "model.fit(X, y)\n",
        "\n",
        "# Realizar predicciones\n",
        "predictions = model.predict(X)\n",
        "\n",
        "# Visualizar las predicciones\n",
        "plt.figure(figsize=(12, 6))\n",
        "plt.scatter(X, y, color='blue', label='Datos Reales')\n",
        "plt.plot(X, predictions, color='red', label='Predicciones')\n",
        "plt.title('Predicción de Emisiones a través de los Años')\n",
        "plt.xlabel('Año')\n",
        "plt.ylabel('Emisiones')\n",
        "plt.legend()\n",
        "plt.show()"
      ],
      "metadata": {
        "id": "yJMWxQ-9WNnp"
      },
      "execution_count": null,
      "outputs": []
    },
    {
      "cell_type": "markdown",
      "source": [
        "# 5. Evaluación\n",
        "\n",
        "**Pasos:**\n",
        "*   Métricas de Evaluación: Utilizar métricas como accuracy, matriz de confusión, y reporte de clasificación.\n",
        "*   Explicación de la Evaluación\n",
        "Accuracy: La proporción de predicciones correctas entre el total de predicciones.\n",
        "*   Matriz de Confusión: Muestra los verdaderos positivos, falsos positivos, verdaderos negativos y falsos negativos."
      ],
      "metadata": {
        "id": "yxJg98hpa7E8"
      }
    },
    {
      "cell_type": "code",
      "source": [
        "from sklearn.metrics import accuracy_score\n",
        "y_pred = model.predict(X_test)\n",
        "accuracy = accuracy_score(y_test, y_pred)\n",
        "print('Accuracy:', accuracy)"
      ],
      "metadata": {
        "id": "1UmJWhKIbEbd"
      },
      "execution_count": null,
      "outputs": []
    },
    {
      "cell_type": "markdown",
      "source": [
        "# 6. Despliegue\n",
        "\n",
        "**Pasos:**\n",
        "*   Guardado del Modelo: Guardar el modelo entrenado para uso futuro.\n",
        "*   Carga del Modelo: Demostrar cómo cargar el modelo guardado.\n"
      ],
      "metadata": {
        "id": "Dtw06cPRWneG"
      }
    },
    {
      "cell_type": "markdown",
      "source": [
        "# 7. Toma de decisiones\n",
        "Finalmente, con base en los análisis y visualizaciones, se redacta las recomendaciones que se pueden hacer a partir de los resultados obtenidos. Esto puede incluir sugerencias para políticas o acciones a seguir."
      ],
      "metadata": {
        "id": "BBQqcHu2XKt_"
      }
    },
    {
      "cell_type": "markdown",
      "source": [
        "#DESGLOSE:\n",
        "\n",
        "Carga de Datos: Se carga el dataset de emisiones, que se debe subir manualmente en el entorno de Google Colab.\n",
        "\n",
        "\n",
        "Exploración Inicial: Se muestran las primeras filas del dataset y se proporciona información básica sobre su estructura.\n",
        "\n",
        "\n",
        "Limpieza de Datos: Se eliminan filas con datos faltantes para asegurar un análisis válido.\n",
        "\n",
        "\n",
        "Visualización de Emisiones por Sector: Se crea un gráfico de barras que muestra las emisiones totales por sector, permitiendo identificar cuáles son los más contaminantes.\n",
        "\n",
        "\n",
        "Análisis de Emisiones Anuales: Se agrupan las emisiones por año y se visualizan en una línea de tiempo para observar tendencias.\n",
        "\n",
        "\n",
        "Modelo de Regresión Lineal: Se implementa un modelo de regresión lineal para prever las emisiones futuras.\n",
        "\n",
        "\n",
        "Toma de Decisiones: Se presentan recomendaciones basadas en el análisis, que incluyen enfoques para reducir las emisiones, políticas a implementar y la importancia del monitoreo continuo."
      ],
      "metadata": {
        "id": "2ztkiUFzXdKP"
      }
    }
  ]
}